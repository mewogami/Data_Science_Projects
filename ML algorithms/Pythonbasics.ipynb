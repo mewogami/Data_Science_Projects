{
 "cells": [
  {
   "cell_type": "markdown",
   "id": "49f111fc",
   "metadata": {},
   "source": [
    "## Python Operations on DataTypes"
   ]
  },
  {
   "cell_type": "code",
   "execution_count": null,
   "id": "cf0365c2",
   "metadata": {},
   "outputs": [
    {
     "name": "stdout",
     "output_type": "stream",
     "text": [
      "12\n",
      "9\n"
     ]
    }
   ],
   "source": [
    "print(3*4)\n",
    "print(3 ** 2) #Exponentiation\n"
   ]
  },
  {
   "cell_type": "code",
   "execution_count": null,
   "id": "5ebfcf16",
   "metadata": {},
   "outputs": [
    {
     "name": "stdout",
     "output_type": "stream",
     "text": [
      "0.75\n",
      "0\n",
      "3\n"
     ]
    }
   ],
   "source": [
    "print(3 / 4) # Division always returns a float in Python 3\n",
    "print(3 // 4) # Floor division\n",
    "print(3 % 4) # Modulus operator"
   ]
  },
  {
   "cell_type": "code",
   "execution_count": 6,
   "id": "e420357f",
   "metadata": {},
   "outputs": [
    {
     "ename": "SyntaxError",
     "evalue": "invalid syntax (3304782337.py, line 2)",
     "output_type": "error",
     "traceback": [
      "  \u001b[36mCell\u001b[39m\u001b[36m \u001b[39m\u001b[32mIn[6]\u001b[39m\u001b[32m, line 2\u001b[39m\n\u001b[31m    \u001b[39m\u001b[31m3 * * 2\u001b[39m\n        ^\n\u001b[31mSyntaxError\u001b[39m\u001b[31m:\u001b[39m invalid syntax\n"
     ]
    }
   ],
   "source": [
    "#wrong syntax -> plus white space\n",
    "3 * * 2"
   ]
  },
  {
   "cell_type": "code",
   "execution_count": null,
   "id": "7f90d34a",
   "metadata": {},
   "outputs": [
    {
     "data": {
      "text/plain": [
       "13"
      ]
     },
     "execution_count": 7,
     "metadata": {},
     "output_type": "execute_result"
    }
   ],
   "source": [
    "1+2*6 # Operator precedence: multiplication before addition"
   ]
  },
  {
   "cell_type": "code",
   "execution_count": null,
   "id": "6488a2d7",
   "metadata": {},
   "outputs": [
    {
     "data": {
      "text/plain": [
       "18"
      ]
     },
     "execution_count": 8,
     "metadata": {},
     "output_type": "execute_result"
    }
   ],
   "source": [
    "(1+2)*6 # Parentheses can be used to change precedence"
   ]
  },
  {
   "cell_type": "code",
   "execution_count": null,
   "id": "933f17a6",
   "metadata": {},
   "outputs": [
    {
     "data": {
      "text/plain": [
       "17.555555555555557"
      ]
     },
     "execution_count": 9,
     "metadata": {},
     "output_type": "execute_result"
    }
   ],
   "source": [
    "1 + 2 * 3 * 4 * 5 / 6 ** 3 + 7 + 8 - 9 + 10 # This is a long expression, but it is valid in Python"
   ]
  },
  {
   "cell_type": "code",
   "execution_count": null,
   "id": "612a9028",
   "metadata": {},
   "outputs": [
    {
     "data": {
      "text/plain": [
       "2017.0"
      ]
     },
     "execution_count": 10,
     "metadata": {},
     "output_type": "execute_result"
    }
   ],
   "source": [
    "1 + 2 * (3 * 4 * 5 / 6) ** 3 + 7 + 8 - 9 + 10 # This is a long expression with parentheses to change precedence"
   ]
  },
  {
   "cell_type": "markdown",
   "id": "db417374",
   "metadata": {},
   "source": [
    "\n",
    "# <font color='33D8FF'>Variables</font>"
   ]
  },
  {
   "cell_type": "code",
   "execution_count": 11,
   "id": "f43b31b8",
   "metadata": {},
   "outputs": [],
   "source": [
    "x = 20\n",
    "y = 10\n",
    "w = 2.0"
   ]
  },
  {
   "cell_type": "code",
   "execution_count": 14,
   "id": "c34310c5",
   "metadata": {},
   "outputs": [
    {
     "name": "stdout",
     "output_type": "stream",
     "text": [
      "30\n"
     ]
    }
   ],
   "source": [
    "z = x+y\n",
    "print(z)"
   ]
  },
  {
   "cell_type": "code",
   "execution_count": 15,
   "id": "b704461a",
   "metadata": {},
   "outputs": [
    {
     "data": {
      "text/plain": [
       "0.01735357917570499"
      ]
     },
     "execution_count": 15,
     "metadata": {},
     "output_type": "execute_result"
    }
   ],
   "source": [
    "initial = 2766000\n",
    "changed = 2814000\n",
    "(changed - initial) / initial"
   ]
  },
  {
   "cell_type": "code",
   "execution_count": null,
   "id": "975468bb",
   "metadata": {},
   "outputs": [
    {
     "data": {
      "text/plain": [
       "2e+307"
      ]
     },
     "execution_count": 16,
     "metadata": {},
     "output_type": "execute_result"
    }
   ],
   "source": [
    "2e306 * 10 "
   ]
  },
  {
   "cell_type": "code",
   "execution_count": 36,
   "id": "796941ce",
   "metadata": {},
   "outputs": [
    {
     "name": "stdout",
     "output_type": "stream",
     "text": [
      " 0.00000000000000044409\n",
      " 4.44089209850062616169e-16\n"
     ]
    }
   ],
   "source": [
    "a = 4.440892098500626e-16\n",
    "\n",
    "print(f'{a: .20f}') # This prints the value of a with 20 decimal places\n",
    "print(f'{a: .20e}') # This prints the value of a in scientific notation with 20 decimal places"
   ]
  },
  {
   "cell_type": "code",
   "execution_count": 22,
   "id": "138b6090",
   "metadata": {},
   "outputs": [
    {
     "data": {
      "text/plain": [
       "(1+2j)"
      ]
     },
     "execution_count": 22,
     "metadata": {},
     "output_type": "execute_result"
    }
   ],
   "source": [
    "complex(1, 2)"
   ]
  },
  {
   "cell_type": "markdown",
   "id": "f66e011d",
   "metadata": {},
   "source": [
    "# <font color = 'yellow' >String</font>"
   ]
  },
  {
   "cell_type": "code",
   "execution_count": 37,
   "id": "d9f9eb51",
   "metadata": {},
   "outputs": [
    {
     "name": "stdout",
     "output_type": "stream",
     "text": [
      "PythonIntroduction\n",
      "Python Introduction\n",
      "PythonPythonPython\n"
     ]
    }
   ],
   "source": [
    "a = \"Python\"\n",
    "b = 'Introduction'\n",
    "print(a+b)\n",
    "print(a+' '+b)\n",
    "print(a * 3)"
   ]
  },
  {
   "cell_type": "code",
   "execution_count": null,
   "id": "0f80a1d3",
   "metadata": {},
   "outputs": [
    {
     "data": {
      "text/plain": [
       "'Science'"
      ]
     },
     "execution_count": 43,
     "metadata": {},
     "output_type": "execute_result"
    }
   ],
   "source": [
    "max('Data','Science') # This returns the maximum value based on lexicographical order"
   ]
  },
  {
   "cell_type": "code",
   "execution_count": 45,
   "id": "5f2d5cd9",
   "metadata": {},
   "outputs": [
    {
     "data": {
      "text/plain": [
       "4"
      ]
     },
     "execution_count": 45,
     "metadata": {},
     "output_type": "execute_result"
    }
   ],
   "source": [
    "len('Data')"
   ]
  },
  {
   "cell_type": "code",
   "execution_count": 46,
   "id": "9416709c",
   "metadata": {},
   "outputs": [
    {
     "data": {
      "text/plain": [
       "'DATA'"
      ]
     },
     "execution_count": 46,
     "metadata": {},
     "output_type": "execute_result"
    }
   ],
   "source": [
    "\"data\".upper()"
   ]
  },
  {
   "cell_type": "code",
   "execution_count": 47,
   "id": "eddb02d8",
   "metadata": {},
   "outputs": [
    {
     "data": {
      "text/plain": [
       "'DataScience'"
      ]
     },
     "execution_count": 47,
     "metadata": {},
     "output_type": "execute_result"
    }
   ],
   "source": [
    "'AetaScience'.replace('Ae', 'Da')"
   ]
  },
  {
   "cell_type": "code",
   "execution_count": 48,
   "id": "15692f35",
   "metadata": {},
   "outputs": [
    {
     "data": {
      "text/plain": [
       "'Datascience'"
      ]
     },
     "execution_count": 48,
     "metadata": {},
     "output_type": "execute_result"
    }
   ],
   "source": [
    "'AetaScience'.lower().replace('ae', 'Da')"
   ]
  },
  {
   "cell_type": "code",
   "execution_count": 49,
   "id": "aba151ca",
   "metadata": {},
   "outputs": [
    {
     "data": {
      "text/plain": [
       "False"
      ]
     },
     "execution_count": 49,
     "metadata": {},
     "output_type": "execute_result"
    }
   ],
   "source": [
    "'Data' < 'Science' < 'Data Science'"
   ]
  },
  {
   "cell_type": "code",
   "execution_count": 50,
   "id": "8bf9e24b",
   "metadata": {},
   "outputs": [
    {
     "data": {
      "text/plain": [
       "True"
      ]
     },
     "execution_count": 50,
     "metadata": {},
     "output_type": "execute_result"
    }
   ],
   "source": [
    "'Data' <  'Data Science' < 'Science' "
   ]
  },
  {
   "cell_type": "markdown",
   "id": "0c9de362",
   "metadata": {},
   "source": [
    "# <font color='yellow'> Difference between ' '  and  \" \"</font>"
   ]
  },
  {
   "cell_type": "code",
   "execution_count": 27,
   "id": "1a6004c9",
   "metadata": {},
   "outputs": [
    {
     "ename": "SyntaxError",
     "evalue": "unterminated string literal (detected at line 1) (4076966317.py, line 1)",
     "output_type": "error",
     "traceback": [
      "  \u001b[36mCell\u001b[39m\u001b[36m \u001b[39m\u001b[32mIn[27]\u001b[39m\u001b[32m, line 1\u001b[39m\n\u001b[31m    \u001b[39m\u001b[31m'This won't work with a single-quoted string!'\u001b[39m\n                                                 ^\n\u001b[31mSyntaxError\u001b[39m\u001b[31m:\u001b[39m unterminated string literal (detected at line 1)\n"
     ]
    }
   ],
   "source": [
    "'This won't work with a single-quoted string!'"
   ]
  },
  {
   "cell_type": "code",
   "execution_count": 31,
   "id": "ae8b0135",
   "metadata": {},
   "outputs": [
    {
     "name": "stdout",
     "output_type": "stream",
     "text": [
      "This won't work with a single-quoted string!\n",
      "This won't print\n"
     ]
    }
   ],
   "source": [
    "\n",
    "print(\"This won't work with a single-quoted string!\")\n",
    "print('This won\\'t print')"
   ]
  },
  {
   "cell_type": "code",
   "execution_count": 29,
   "id": "90cdcb96",
   "metadata": {},
   "outputs": [
    {
     "data": {
      "text/plain": [
       "\"That's 2 True\""
      ]
     },
     "execution_count": 29,
     "metadata": {},
     "output_type": "execute_result"
    }
   ],
   "source": [
    "\"That's \" + str(1 + 1) + ' ' + str(True)"
   ]
  },
  {
   "cell_type": "code",
   "execution_count": 30,
   "id": "7cd565a1",
   "metadata": {},
   "outputs": [
    {
     "ename": "TypeError",
     "evalue": "can only concatenate str (not \"int\") to str",
     "output_type": "error",
     "traceback": [
      "\u001b[31m---------------------------------------------------------------------------\u001b[39m",
      "\u001b[31mTypeError\u001b[39m                                 Traceback (most recent call last)",
      "\u001b[36mCell\u001b[39m\u001b[36m \u001b[39m\u001b[32mIn[30]\u001b[39m\u001b[32m, line 1\u001b[39m\n\u001b[32m----> \u001b[39m\u001b[32m1\u001b[39m \u001b[33;43m\"\u001b[39;49m\u001b[33;43mThat\u001b[39;49m\u001b[33;43m'\u001b[39;49m\u001b[33;43ms \u001b[39;49m\u001b[33;43m\"\u001b[39;49m\u001b[43m \u001b[49m\u001b[43m+\u001b[49m\u001b[43m \u001b[49m\u001b[32;43m2\u001b[39;49m + \u001b[33m'\u001b[39m\u001b[33m \u001b[39m\u001b[33m'\u001b[39m + \u001b[38;5;28mstr\u001b[39m(\u001b[38;5;28;01mTrue\u001b[39;00m)\n",
      "\u001b[31mTypeError\u001b[39m: can only concatenate str (not \"int\") to str"
     ]
    }
   ],
   "source": [
    "\"That's \" + 2 + ' ' + str(True)"
   ]
  },
  {
   "cell_type": "markdown",
   "id": "221b9f45",
   "metadata": {},
   "source": [
    "# <font>Numbers</font>"
   ]
  },
  {
   "cell_type": "code",
   "execution_count": 40,
   "id": "0fee4f3f",
   "metadata": {},
   "outputs": [
    {
     "name": "stdout",
     "output_type": "stream",
     "text": [
      "20\n",
      "7\n",
      "25\n",
      "10\n",
      "8\n",
      "2\n"
     ]
    }
   ],
   "source": [
    "print(abs(-20))\n",
    "print(round(10 - 2.7))\n",
    "print(max(25, 5 + 10, 10))\n",
    "print(min(25, 5 + 10, 10))\n",
    "print(pow(2, 3)) #Exponentiation, same as 2 ** 3\n",
    "print(pow(2, 3, 3)) #Exponentiation with modulus, same as (2 ** 3) % 3"
   ]
  },
  {
   "cell_type": "code",
   "execution_count": 33,
   "id": "cf4cee11",
   "metadata": {},
   "outputs": [],
   "source": [
    "import math\n",
    "import operator"
   ]
  },
  {
   "cell_type": "code",
   "execution_count": null,
   "id": "99ddb8a5",
   "metadata": {},
   "outputs": [
    {
     "data": {
      "text/plain": [
       "5.0"
      ]
     },
     "execution_count": 34,
     "metadata": {},
     "output_type": "execute_result"
    }
   ],
   "source": [
    "math.sqrt(operator.add(15, 10)) # This calculates the square root of the sum of 15 and 10 using the math and operator modules"
   ]
  },
  {
   "cell_type": "code",
   "execution_count": null,
   "id": "7e84e6fc",
   "metadata": {},
   "outputs": [
    {
     "data": {
      "text/plain": [
       "5.0"
      ]
     },
     "execution_count": 35,
     "metadata": {},
     "output_type": "execute_result"
    }
   ],
   "source": [
    "(15+10) ** 0.5 #taking the square root of the sum of 15 and 10"
   ]
  },
  {
   "cell_type": "code",
   "execution_count": null,
   "id": "0ca667f1",
   "metadata": {},
   "outputs": [
    {
     "data": {
      "text/plain": [
       "6.0"
      ]
     },
     "execution_count": 41,
     "metadata": {},
     "output_type": "execute_result"
    }
   ],
   "source": [
    "math.log(64, 2) # This calculates the logarithm of 64 to the base 2 using the math module"
   ]
  },
  {
   "cell_type": "code",
   "execution_count": null,
   "id": "025448e1",
   "metadata": {},
   "outputs": [],
   "source": [
    "math.log(64)/math.log(2) # This calculates the logarithm of 64 to the base 2 using the change of base formula"
   ]
  },
  {
   "cell_type": "code",
   "execution_count": null,
   "id": "4b181345",
   "metadata": {},
   "outputs": [
    {
     "data": {
      "text/plain": [
       "True"
      ]
     },
     "execution_count": 42,
     "metadata": {},
     "output_type": "execute_result"
    }
   ],
   "source": [
    "bool(3.1415) # This converts the float 3.1415 to a boolean, which will be True since it is non-zero"
   ]
  },
  {
   "cell_type": "markdown",
   "id": "452706ed",
   "metadata": {},
   "source": [
    "# <font>Type</font>"
   ]
  },
  {
   "cell_type": "code",
   "execution_count": 51,
   "id": "c07b2cea",
   "metadata": {},
   "outputs": [
    {
     "name": "stdout",
     "output_type": "stream",
     "text": [
      "<class 'builtin_function_or_method'>\n",
      "<class 'str'>\n",
      "<class 'float'>\n",
      "<class 'int'>\n",
      "<class 'NoneType'>\n"
     ]
    }
   ],
   "source": [
    "print(type(max))\n",
    "print(type('Data'))\n",
    "print(type(3.14))\n",
    "print(type(3)) \n",
    "print (type(None))"
   ]
  },
  {
   "cell_type": "markdown",
   "id": "3a83c8b7",
   "metadata": {},
   "source": [
    "## Sequences"
   ]
  },
  {
   "cell_type": "code",
   "execution_count": 75,
   "id": "2a8a9f84",
   "metadata": {},
   "outputs": [
    {
     "data": {
      "text/plain": [
       "[13.6, 14.387, 14.585, 15.164]"
      ]
     },
     "execution_count": 75,
     "metadata": {},
     "output_type": "execute_result"
    }
   ],
   "source": [
    "temperatures = [baseline_temp - 0.880, baseline_temp - 0.093,\n",
    "                   baseline_temp + 0.105, baseline_temp + 0.684]\n",
    "temperatures"
   ]
  },
  {
   "cell_type": "code",
   "execution_count": 76,
   "id": "cb496eba",
   "metadata": {},
   "outputs": [
    {
     "data": {
      "text/plain": [
       "list"
      ]
     },
     "execution_count": 76,
     "metadata": {},
     "output_type": "execute_result"
    }
   ],
   "source": [
    "type(temperatures)"
   ]
  },
  {
   "cell_type": "code",
   "execution_count": 77,
   "id": "a9f03f1e",
   "metadata": {},
   "outputs": [
    {
     "ename": "TypeError",
     "evalue": "can't multiply sequence by non-int of type 'float'",
     "output_type": "error",
     "traceback": [
      "\u001b[31m---------------------------------------------------------------------------\u001b[39m",
      "\u001b[31mTypeError\u001b[39m                                 Traceback (most recent call last)",
      "\u001b[36mCell\u001b[39m\u001b[36m \u001b[39m\u001b[32mIn[77]\u001b[39m\u001b[32m, line 1\u001b[39m\n\u001b[32m----> \u001b[39m\u001b[32m1\u001b[39m temperatures_Fahrenheit = \u001b[43m(\u001b[49m\u001b[32;43m9\u001b[39;49m\u001b[43m/\u001b[49m\u001b[32;43m5\u001b[39;49m\u001b[43m)\u001b[49m\u001b[43m \u001b[49m\u001b[43m*\u001b[49m\u001b[43m \u001b[49m\u001b[43mtemperatures\u001b[49m + \u001b[32m32\u001b[39m\n\u001b[32m      2\u001b[39m temperatures_Fahrenheit\n",
      "\u001b[31mTypeError\u001b[39m: can't multiply sequence by non-int of type 'float'"
     ]
    }
   ],
   "source": [
    "temperatures_Fahrenheit = (9/5) * temperatures + 32\n",
    "temperatures_Fahrenheit"
   ]
  },
  {
   "cell_type": "code",
   "execution_count": null,
   "id": "49fcf668",
   "metadata": {},
   "outputs": [
    {
     "data": {
      "text/plain": [
       "array([13.6  , 14.387, 14.585, 15.164])"
      ]
     },
     "execution_count": 68,
     "metadata": {},
     "output_type": "execute_result"
    }
   ],
   "source": [
    "import numpy as np\n",
    "\n",
    "baseline_temp = 14.48\n",
    "temperatures = np.array([baseline_temp - 0.880, baseline_temp - 0.093,\n",
    "                   baseline_temp + 0.105, baseline_temp + 0.684])\n",
    "temperatures"
   ]
  },
  {
   "cell_type": "code",
   "execution_count": null,
   "id": "5611e81b",
   "metadata": {},
   "outputs": [
    {
     "data": {
      "text/plain": [
       "numpy.ndarray"
      ]
     },
     "execution_count": 69,
     "metadata": {},
     "output_type": "execute_result"
    }
   ],
   "source": [
    "type(temperatures)"
   ]
  },
  {
   "cell_type": "code",
   "execution_count": null,
   "id": "88e426c3",
   "metadata": {},
   "outputs": [
    {
     "data": {
      "text/plain": [
       "array([56.48  , 57.8966, 58.253 , 59.2952])"
      ]
     },
     "execution_count": 70,
     "metadata": {},
     "output_type": "execute_result"
    }
   ],
   "source": [
    "temperatures_Fahrenheit = (9/5) * temperatures + 32\n",
    "temperatures_Fahrenheit"
   ]
  },
  {
   "cell_type": "code",
   "execution_count": null,
   "id": "14e9ea21",
   "metadata": {},
   "outputs": [
    {
     "data": {
      "text/plain": [
       "array([[ 0,  5, 10],\n",
       "       [15, 20, 25]])"
      ]
     },
     "execution_count": 71,
     "metadata": {},
     "output_type": "execute_result"
    }
   ],
   "source": [
    "np.arange(5) # This creates a NumPy array with values from 0 to 4\n",
    "np.arange(5, 10) # This creates a NumPy array with values from 5 to 9\n",
    "np.arange(0, 30, 5) # This creates a NumPy array with values from 0 to 25 with a step of 5\n",
    "np.arange(0, 30, 5).reshape(2, 3) # This reshapes the array into a 2x3 matrix"
   ]
  },
  {
   "cell_type": "code",
   "execution_count": null,
   "id": "06e2412f",
   "metadata": {},
   "outputs": [
    {
     "data": {
      "text/plain": [
       "[0, 1, 2, 3, 4]"
      ]
     },
     "execution_count": 72,
     "metadata": {},
     "output_type": "execute_result"
    }
   ],
   "source": [
    "array = [] \n",
    "for i in range(5):\n",
    "  array.append(i)\n",
    "# This creates a list with values from 0 to 4\n",
    "array"
   ]
  },
  {
   "cell_type": "markdown",
   "id": "42579d44",
   "metadata": {},
   "source": [
    "# Data Structures"
   ]
  },
  {
   "cell_type": "code",
   "execution_count": null,
   "id": "0f08304b",
   "metadata": {},
   "outputs": [],
   "source": [
    "# list = [ 1, 2, 3, 4, 5] # Ordered Collection of elements\n",
    "# tuple = (1, 2, 3, 4, 5) # Ordered Collection of elements, immutable\n",
    "# set = {1, 2, 3, 4, 5} # Unordered Collection of unique elements"
   ]
  },
  {
   "cell_type": "markdown",
   "id": "1b23f655",
   "metadata": {},
   "source": [
    "## List"
   ]
  },
  {
   "cell_type": "code",
   "execution_count": 78,
   "id": "8dc054f8",
   "metadata": {},
   "outputs": [
    {
     "data": {
      "text/plain": [
       "[0, 2, 4, 6, 8]"
      ]
     },
     "execution_count": 78,
     "metadata": {},
     "output_type": "execute_result"
    }
   ],
   "source": [
    "L = []\n",
    "for i in range(0,10,2):\n",
    "  L.append(i)\n",
    "\n",
    "L"
   ]
  },
  {
   "cell_type": "code",
   "execution_count": 87,
   "id": "b48c186f",
   "metadata": {},
   "outputs": [
    {
     "name": "stdout",
     "output_type": "stream",
     "text": [
      "[[1, 2], [5, 6], [8, 9]]\n",
      "[[5, 6], [8, 9]]\n"
     ]
    }
   ],
   "source": [
    "lists = [[1,2],[5,6],[8,9]]\n",
    "L = []\n",
    "for list in lists:\n",
    "  L.append(list) #[1,2],[5,6]...\n",
    "\n",
    "print(L)\n",
    "\n",
    "l = [list for list in lists if list[1] > 5]  # This creates a list of lists where the first element is greater than 5\n",
    "print(l)  # This creates a list of lists using list comprehension"
   ]
  },
  {
   "cell_type": "code",
   "execution_count": null,
   "id": "5a87dd41",
   "metadata": {},
   "outputs": [
    {
     "data": {
      "text/plain": [
       "[0, 1, 4, 9, 16, 25, 36, 49, 64, 81]"
      ]
     },
     "execution_count": 82,
     "metadata": {},
     "output_type": "execute_result"
    }
   ],
   "source": [
    "L = [i**2 for i in range(10)] #list comprehension to create a list of squares of numbers from 0 to 9\n",
    "L"
   ]
  },
  {
   "cell_type": "code",
   "execution_count": 88,
   "id": "18025afe",
   "metadata": {},
   "outputs": [
    {
     "data": {
      "text/plain": [
       "[1, 2, 2, 3, 5, 6]"
      ]
     },
     "execution_count": 88,
     "metadata": {},
     "output_type": "execute_result"
    }
   ],
   "source": [
    "L =[2,6,1,5,3,2]\n",
    "L.sort()\n",
    "L"
   ]
  },
  {
   "cell_type": "code",
   "execution_count": 89,
   "id": "ebea90fb",
   "metadata": {},
   "outputs": [
    {
     "data": {
      "text/plain": [
       "(11, 5)"
      ]
     },
     "execution_count": 89,
     "metadata": {},
     "output_type": "execute_result"
    }
   ],
   "source": [
    "L = [2,3,5,7,11]\n",
    "L[-1], L[2]"
   ]
  },
  {
   "cell_type": "markdown",
   "id": "72df0cfd",
   "metadata": {},
   "source": [
    "## Tuple"
   ]
  },
  {
   "cell_type": "code",
   "execution_count": 90,
   "id": "94141f14",
   "metadata": {},
   "outputs": [
    {
     "data": {
      "text/plain": [
       "(1, 2, 3)"
      ]
     },
     "execution_count": 90,
     "metadata": {},
     "output_type": "execute_result"
    }
   ],
   "source": [
    "t = (1, 2, 3)\n",
    "t"
   ]
  },
  {
   "cell_type": "code",
   "execution_count": 91,
   "id": "f6dac0c5",
   "metadata": {},
   "outputs": [
    {
     "data": {
      "text/plain": [
       "(1, 2, 3)"
      ]
     },
     "execution_count": 91,
     "metadata": {},
     "output_type": "execute_result"
    }
   ],
   "source": [
    "t = 1, 2, 3\n",
    "t"
   ]
  },
  {
   "cell_type": "code",
   "execution_count": 92,
   "id": "ede2e41b",
   "metadata": {},
   "outputs": [
    {
     "data": {
      "text/plain": [
       "3"
      ]
     },
     "execution_count": 92,
     "metadata": {},
     "output_type": "execute_result"
    }
   ],
   "source": [
    "len(t)"
   ]
  },
  {
   "cell_type": "code",
   "execution_count": 93,
   "id": "cbb536b5",
   "metadata": {},
   "outputs": [
    {
     "data": {
      "text/plain": [
       "1"
      ]
     },
     "execution_count": 93,
     "metadata": {},
     "output_type": "execute_result"
    }
   ],
   "source": [
    "t[0]"
   ]
  },
  {
   "cell_type": "code",
   "execution_count": null,
   "id": "480ebb4c",
   "metadata": {},
   "outputs": [],
   "source": [
    "t[1] = 4\n",
    "t.append(4)\n",
    "# This will raise a TypeError because tuples are immutable"
   ]
  },
  {
   "cell_type": "code",
   "execution_count": 94,
   "id": "404d443a",
   "metadata": {},
   "outputs": [
    {
     "data": {
      "text/plain": [
       "(1, 8)"
      ]
     },
     "execution_count": 94,
     "metadata": {},
     "output_type": "execute_result"
    }
   ],
   "source": [
    "x = 0.125\n",
    "x.as_integer_ratio()"
   ]
  },
  {
   "cell_type": "code",
   "execution_count": 95,
   "id": "6f7b2be7",
   "metadata": {},
   "outputs": [
    {
     "name": "stdout",
     "output_type": "stream",
     "text": [
      "0.125\n"
     ]
    }
   ],
   "source": [
    "numerator, denominator = x.as_integer_ratio()\n",
    "print(numerator / denominator)"
   ]
  },
  {
   "cell_type": "markdown",
   "id": "2281acf0",
   "metadata": {},
   "source": [
    "## Dictionary"
   ]
  },
  {
   "cell_type": "code",
   "execution_count": 96,
   "id": "2ce79f6c",
   "metadata": {},
   "outputs": [
    {
     "data": {
      "text/plain": [
       "{'one': 1, 'two': 2, 'three': 3}"
      ]
     },
     "execution_count": 96,
     "metadata": {},
     "output_type": "execute_result"
    }
   ],
   "source": [
    "numbers = {'one':1, 'two':2, 'three':3}\n",
    "numbers"
   ]
  },
  {
   "cell_type": "code",
   "execution_count": 97,
   "id": "ca184be4",
   "metadata": {},
   "outputs": [
    {
     "data": {
      "text/plain": [
       "1"
      ]
     },
     "execution_count": 97,
     "metadata": {},
     "output_type": "execute_result"
    }
   ],
   "source": [
    "numbers['one']"
   ]
  },
  {
   "cell_type": "code",
   "execution_count": 98,
   "id": "6195468d",
   "metadata": {},
   "outputs": [
    {
     "data": {
      "text/plain": [
       "{'one': 1, 'two': 2, 'three': 3, 'nine': 9}"
      ]
     },
     "execution_count": 98,
     "metadata": {},
     "output_type": "execute_result"
    }
   ],
   "source": [
    "numbers[\"nine\"] = 9\n",
    "numbers"
   ]
  },
  {
   "cell_type": "code",
   "execution_count": null,
   "id": "ade9bcbc",
   "metadata": {},
   "outputs": [
    {
     "data": {
      "text/plain": [
       "{'one': 1, 'two': 4, 'three': 3, 'nine': 9}"
      ]
     },
     "execution_count": 99,
     "metadata": {},
     "output_type": "execute_result"
    }
   ],
   "source": [
    "numbers[\"two\"] = 4 # This will update the value of 'two' in the dictionary to 4\n",
    "numbers"
   ]
  },
  {
   "cell_type": "markdown",
   "id": "76d67f20",
   "metadata": {},
   "source": [
    "## Set"
   ]
  },
  {
   "cell_type": "code",
   "execution_count": 100,
   "id": "09d306fc",
   "metadata": {},
   "outputs": [],
   "source": [
    "primes = {2, 3, 5, 7}\n",
    "odds = {1, 3, 5, 7, 9}"
   ]
  },
  {
   "cell_type": "code",
   "execution_count": 101,
   "id": "8314ef44",
   "metadata": {},
   "outputs": [
    {
     "data": {
      "text/plain": [
       "{1, 2, 3, 5, 7, 9}"
      ]
     },
     "execution_count": 101,
     "metadata": {},
     "output_type": "execute_result"
    }
   ],
   "source": [
    "# union: items appearing in either\n",
    "primes | odds      # with an operator\n",
    "primes.union(odds) # equivalently with a method"
   ]
  },
  {
   "cell_type": "code",
   "execution_count": 110,
   "id": "2b48ffe8",
   "metadata": {},
   "outputs": [
    {
     "data": {
      "text/plain": [
       "{3, 5, 7}"
      ]
     },
     "execution_count": 110,
     "metadata": {},
     "output_type": "execute_result"
    }
   ],
   "source": [
    "# intersection: items appearing in both\n",
    "primes & odds             # with an operator\n",
    "primes.intersection(odds) # equivalently with a method\n"
   ]
  },
  {
   "cell_type": "code",
   "execution_count": 103,
   "id": "61a65047",
   "metadata": {},
   "outputs": [
    {
     "data": {
      "text/plain": [
       "{2}"
      ]
     },
     "execution_count": 103,
     "metadata": {},
     "output_type": "execute_result"
    }
   ],
   "source": [
    "# difference: items in primes but not in odds\n",
    "primes - odds           # with an operator\n",
    "primes.difference(odds) # equivalently with a method"
   ]
  },
  {
   "cell_type": "code",
   "execution_count": null,
   "id": "54b5a11b",
   "metadata": {},
   "outputs": [
    {
     "data": {
      "text/plain": [
       "{1, 9}"
      ]
     },
     "execution_count": 104,
     "metadata": {},
     "output_type": "execute_result"
    }
   ],
   "source": [
    "# difference: items in odds but not in primes\n",
    "odds - primes    # with an operator"
   ]
  },
  {
   "cell_type": "code",
   "execution_count": 107,
   "id": "ea0d9fcf",
   "metadata": {},
   "outputs": [
    {
     "data": {
      "text/plain": [
       "{1, 2, 9}"
      ]
     },
     "execution_count": 107,
     "metadata": {},
     "output_type": "execute_result"
    }
   ],
   "source": [
    "# symmetric difference: items appearing in only one set\n",
    "primes ^ odds                     # with an operator\n",
    "primes.symmetric_difference(odds) # equivalently with a method"
   ]
  },
  {
   "cell_type": "markdown",
   "id": "bb0c43e7",
   "metadata": {},
   "source": [
    "# loops"
   ]
  },
  {
   "cell_type": "code",
   "execution_count": 111,
   "id": "faa8501e",
   "metadata": {},
   "outputs": [
    {
     "name": "stdout",
     "output_type": "stream",
     "text": [
      "2 3 5 7 "
     ]
    }
   ],
   "source": [
    "\n",
    "for N in [2, 3, 5, 7]:\n",
    "    print(N, end=' ') # print all on same line"
   ]
  },
  {
   "cell_type": "code",
   "execution_count": 112,
   "id": "34794efa",
   "metadata": {},
   "outputs": [
    {
     "name": "stdout",
     "output_type": "stream",
     "text": [
      "0 1 2 3 4 5 6 7 8 9 "
     ]
    }
   ],
   "source": [
    "i = 0\n",
    "while i < 10:\n",
    "    print(i, end=' ')\n",
    "    i += 1"
   ]
  },
  {
   "cell_type": "code",
   "execution_count": 113,
   "id": "9e191364",
   "metadata": {},
   "outputs": [
    {
     "name": "stdout",
     "output_type": "stream",
     "text": [
      "1 3 5 7 9 11 13 15 17 19 "
     ]
    }
   ],
   "source": [
    "for n in range(20):\n",
    "    # if the remainder of n / 2 is 0, skip the rest of the loop\n",
    "    if n % 2 == 0:\n",
    "        continue\n",
    "    print(n, end=' ')"
   ]
  },
  {
   "cell_type": "code",
   "execution_count": 114,
   "id": "5ce323e7",
   "metadata": {},
   "outputs": [
    {
     "name": "stdout",
     "output_type": "stream",
     "text": [
      "[1, 1, 2, 3, 5, 8, 13, 21, 34, 55, 89]\n"
     ]
    }
   ],
   "source": [
    "a, b = 0, 1 \n",
    "amax = 100\n",
    "L = []\n",
    "\n",
    "while True:\n",
    "    (a, b) = (b, a + b)\n",
    "    if a > amax:\n",
    "        break\n",
    "    L.append(a)\n",
    "# This generates the Fibonacci sequence up to a maximum value of 100\n",
    "print(L)"
   ]
  },
  {
   "cell_type": "code",
   "execution_count": 115,
   "id": "d8db376a",
   "metadata": {},
   "outputs": [
    {
     "data": {
      "text/plain": [
       "[2, 2, 4, 6, 10, 16, 26, 42, 68, 110]"
      ]
     },
     "execution_count": 115,
     "metadata": {},
     "output_type": "execute_result"
    }
   ],
   "source": [
    "def fibonacci(N, a=0, b=1):\n",
    "    L = []\n",
    "    while len(L) < N:\n",
    "        a, b = b, a + b\n",
    "        L.append(a)\n",
    "    return L\n",
    "fibonacci(10)\n",
    "fibonacci(10, 0, 2)\n"
   ]
  },
  {
   "cell_type": "code",
   "execution_count": 116,
   "id": "835ee6c9",
   "metadata": {},
   "outputs": [
    {
     "data": {
      "text/plain": [
       "3"
      ]
     },
     "execution_count": 116,
     "metadata": {},
     "output_type": "execute_result"
    }
   ],
   "source": [
    "add = lambda x, y: x + y # This defines a lambda function that takes two arguments x and y and returns their sum\n",
    "add(1, 2)"
   ]
  },
  {
   "cell_type": "code",
   "execution_count": 117,
   "id": "cf3a3cde",
   "metadata": {},
   "outputs": [
    {
     "name": "stdout",
     "output_type": "stream",
     "text": [
      "let's try something:\n",
      "something bad happened!\n"
     ]
    }
   ],
   "source": [
    "try:\n",
    "    print(\"let's try something:\")\n",
    "    x = 1 / 0 # ZeroDivisionError\n",
    "except:\n",
    "    print(\"something bad happened!\")"
   ]
  },
  {
   "cell_type": "code",
   "execution_count": 118,
   "id": "ff195c6f",
   "metadata": {},
   "outputs": [
    {
     "data": {
      "text/plain": [
       "1e+100"
      ]
     },
     "execution_count": 118,
     "metadata": {},
     "output_type": "execute_result"
    }
   ],
   "source": [
    "def safe_divide(a, b):\n",
    "    try:\n",
    "        return a / b\n",
    "    except:\n",
    "        return 1E100\n",
    "safe_divide (1, '2')"
   ]
  },
  {
   "cell_type": "markdown",
   "id": "6caf6832",
   "metadata": {},
   "source": [
    "<font color = \"green\">Matplotlib MatLab-style scientific visualization</font>"
   ]
  },
  {
   "cell_type": "code",
   "execution_count": 120,
   "id": "e6acc94d",
   "metadata": {},
   "outputs": [],
   "source": [
    "%matplotlib inline"
   ]
  },
  {
   "cell_type": "code",
   "execution_count": 122,
   "id": "0b05e9b6",
   "metadata": {},
   "outputs": [],
   "source": [
    "import matplotlib.pyplot as plt\n",
    "plt.style.use('ggplot')  # make graphs in the style of R's ggplot"
   ]
  },
  {
   "cell_type": "code",
   "execution_count": 127,
   "id": "dd36d97e",
   "metadata": {},
   "outputs": [
    {
     "data": {
      "image/png": "[encoded data removed]",
      "text/plain": [
       "<Figure size 640x480 with 1 Axes>"
      ]
     },
     "metadata": {},
     "output_type": "display_data"
    }
   ],
   "source": [
    "import numpy as np\n",
    "x = np.linspace(0, 10, 100)\n",
    "\n",
    "fig = plt.figure()\n",
    "plt.plot(x, np.sin(x), '-','b')\n",
    "plt.plot(x, np.cos(x), '--','r');"
   ]
  },
  {
   "cell_type": "code",
   "execution_count": 124,
   "id": "a049c891",
   "metadata": {},
   "outputs": [
    {
     "data": {
      "image/png": "[encoded data removed]",
      "text/plain": [
       "<Figure size 640x480 with 1 Axes>"
      ]
     },
     "metadata": {},
     "output_type": "display_data"
    }
   ],
   "source": [
    "plt.plot([1, 2, 3, 4], [1, 4, 9, 16])\n",
    "plt.show()"
   ]
  },
  {
   "cell_type": "code",
   "execution_count": 125,
   "id": "45ede404",
   "metadata": {},
   "outputs": [
    {
     "data": {
      "image/png": "[encoded data removed]",
      "text/plain": [
       "<Figure size 640x480 with 1 Axes>"
      ]
     },
     "metadata": {},
     "output_type": "display_data"
    }
   ],
   "source": [
    "from scipy import interpolate\n",
    "import numpy as np\n",
    "\n",
    "# choose eight points between 0 and 10\n",
    "x = np.linspace(0, 10, 8)\n",
    "y = np.sin(x)\n",
    "\n",
    "# create a cubic interpolation function\n",
    "func = interpolate.interp1d(x, y, kind='cubic')\n",
    "\n",
    "# interpolate on a grid of 1,000 points\n",
    "x_interp = np.linspace(0, 10, 1000)\n",
    "y_interp = func(x_interp)\n",
    "\n",
    "# plot the results\n",
    "plt.figure()  # new figure\n",
    "plt.plot(x, y, 'bo')\n",
    "plt.plot(x_interp, y_interp);"
   ]
  }
 ],
 "metadata": {
  "kernelspec": {
   "display_name": "Python 3",
   "language": "python",
   "name": "python3"
  },
  "language_info": {
   "codemirror_mode": {
    "name": "ipython",
    "version": 3
   },
   "file_extension": ".py",
   "mimetype": "text/x-python",
   "name": "python",
   "nbconvert_exporter": "python",
   "pygments_lexer": "ipython3",
   "version": "3.13.2"
  }
 },
 "nbformat": 4,
 "nbformat_minor": 5
}
