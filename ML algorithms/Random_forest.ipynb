{
 "cells": [
  {
   "cell_type": "markdown",
   "id": "b3224bfb",
   "metadata": {},
   "source": [
    "### Decision Tree and Random Forest Classification Problem"
   ]
  },
  {
   "cell_type": "code",
   "execution_count": 54,
   "id": "f51c4203",
   "metadata": {},
   "outputs": [],
   "source": [
    "import pandas as pd\n",
    "import numpy as np"
   ]
  },
  {
   "cell_type": "code",
   "execution_count": null,
   "id": "9f1fca3e",
   "metadata": {},
   "outputs": [],
   "source": [
    "file_path = 'diabetes_dataset.csv'"
   ]
  },
  {
   "cell_type": "markdown",
   "id": "0214b86f",
   "metadata": {},
   "source": [
    "### About Dataset\n",
    "The provided dataset appears to be related to diabetes and contains various biomedical measurements and patient characteristics. Here's a detailed description of the dataset columns:\n",
    "\n",
    "ID: A unique identifier for each record in the dataset.\n",
    "\n",
    "No_Pation: Another identifier for the patient. It might be a patient number or record ID.\n",
    "\n",
    "Gender: The gender of the patient (F for Female, M for Male).\n",
    "\n",
    "AGE: The age of the patient in years.\n",
    "\n",
    "Urea: Urea level in the blood (likely measured in mg/dL or mmol/L). Urea is a waste product of protein metabolism and can indicate kidney function.\n",
    "\n",
    "Cr: Creatinine level in the blood (likely measured in mg/dL or µmol/L). Creatinine is another waste product that indicates kidney function.\n",
    "\n",
    "HbA1c: Glycated hemoglobin, a measure of average blood sugar levels over the past 2-3 months (expressed as a percentage).\n",
    "\n",
    "Chol: Cholesterol level in the blood (likely measured in mg/dL or mmol/L). This typically refers to total cholesterol.\n",
    "\n",
    "TG: Triglycerides level in the blood (likely measured in mg/dL or mmol/L). Triglycerides are a type of fat in the blood.\n",
    "\n",
    "HDL: High-density lipoprotein cholesterol level (often called \"good\" cholesterol, measured in mg/dL or mmol/L).\n",
    "\n",
    "LDL: Low-density lipoprotein cholesterol level (often called \"bad\" cholesterol, measured in mg/dL or mmol/L).\n",
    "\n",
    "VLDL: Very low-density lipoprotein cholesterol level (measured in mg/dL or mmol/L).\n",
    "\n",
    "BMI: Body Mass Index, a measure of body fat based on height and weight (calculated as weight in kilograms divided by height in meters squared).\n",
    "\n",
    "CLASS: The class label indicating the diabetes status of the patient. The possible values seem to be:\n",
    "\n",
    "N: Non-diabetic\n",
    "\n",
    "P: Prediabetic\n",
    "\n",
    "Y: Diabetic"
   ]
  },
  {
   "cell_type": "code",
   "execution_count": 56,
   "id": "16c39767",
   "metadata": {},
   "outputs": [
    {
     "data": {
      "text/html": [
       "<div>\n",
       "<style scoped>\n",
       "    .dataframe tbody tr th:only-of-type {\n",
       "        vertical-align: middle;\n",
       "    }\n",
       "\n",
       "    .dataframe tbody tr th {\n",
       "        vertical-align: top;\n",
       "    }\n",
       "\n",
       "    .dataframe thead th {\n",
       "        text-align: right;\n",
       "    }\n",
       "</style>\n",
       "<table border=\"1\" class=\"dataframe\">\n",
       "  <thead>\n",
       "    <tr style=\"text-align: right;\">\n",
       "      <th></th>\n",
       "      <th>ID</th>\n",
       "      <th>No_Pation</th>\n",
       "      <th>Gender</th>\n",
       "      <th>AGE</th>\n",
       "      <th>Urea</th>\n",
       "      <th>Cr</th>\n",
       "      <th>HbA1c</th>\n",
       "      <th>Chol</th>\n",
       "      <th>TG</th>\n",
       "      <th>HDL</th>\n",
       "      <th>LDL</th>\n",
       "      <th>VLDL</th>\n",
       "      <th>BMI</th>\n",
       "      <th>CLASS</th>\n",
       "    </tr>\n",
       "  </thead>\n",
       "  <tbody>\n",
       "    <tr>\n",
       "      <th>0</th>\n",
       "      <td>502</td>\n",
       "      <td>17975</td>\n",
       "      <td>F</td>\n",
       "      <td>50</td>\n",
       "      <td>4.7</td>\n",
       "      <td>46</td>\n",
       "      <td>4.9</td>\n",
       "      <td>4.2</td>\n",
       "      <td>0.9</td>\n",
       "      <td>2.4</td>\n",
       "      <td>1.4</td>\n",
       "      <td>0.5</td>\n",
       "      <td>24.0</td>\n",
       "      <td>N</td>\n",
       "    </tr>\n",
       "    <tr>\n",
       "      <th>1</th>\n",
       "      <td>735</td>\n",
       "      <td>34221</td>\n",
       "      <td>M</td>\n",
       "      <td>26</td>\n",
       "      <td>4.5</td>\n",
       "      <td>62</td>\n",
       "      <td>4.9</td>\n",
       "      <td>3.7</td>\n",
       "      <td>1.4</td>\n",
       "      <td>1.1</td>\n",
       "      <td>2.1</td>\n",
       "      <td>0.6</td>\n",
       "      <td>23.0</td>\n",
       "      <td>N</td>\n",
       "    </tr>\n",
       "    <tr>\n",
       "      <th>2</th>\n",
       "      <td>420</td>\n",
       "      <td>47975</td>\n",
       "      <td>F</td>\n",
       "      <td>50</td>\n",
       "      <td>4.7</td>\n",
       "      <td>46</td>\n",
       "      <td>4.9</td>\n",
       "      <td>4.2</td>\n",
       "      <td>0.9</td>\n",
       "      <td>2.4</td>\n",
       "      <td>1.4</td>\n",
       "      <td>0.5</td>\n",
       "      <td>24.0</td>\n",
       "      <td>N</td>\n",
       "    </tr>\n",
       "    <tr>\n",
       "      <th>3</th>\n",
       "      <td>680</td>\n",
       "      <td>87656</td>\n",
       "      <td>F</td>\n",
       "      <td>50</td>\n",
       "      <td>4.7</td>\n",
       "      <td>46</td>\n",
       "      <td>4.9</td>\n",
       "      <td>4.2</td>\n",
       "      <td>0.9</td>\n",
       "      <td>2.4</td>\n",
       "      <td>1.4</td>\n",
       "      <td>0.5</td>\n",
       "      <td>24.0</td>\n",
       "      <td>N</td>\n",
       "    </tr>\n",
       "    <tr>\n",
       "      <th>4</th>\n",
       "      <td>504</td>\n",
       "      <td>34223</td>\n",
       "      <td>M</td>\n",
       "      <td>33</td>\n",
       "      <td>7.1</td>\n",
       "      <td>46</td>\n",
       "      <td>4.9</td>\n",
       "      <td>4.9</td>\n",
       "      <td>1.0</td>\n",
       "      <td>0.8</td>\n",
       "      <td>2.0</td>\n",
       "      <td>0.4</td>\n",
       "      <td>21.0</td>\n",
       "      <td>N</td>\n",
       "    </tr>\n",
       "  </tbody>\n",
       "</table>\n",
       "</div>"
      ],
      "text/plain": [
       "    ID  No_Pation Gender  AGE  Urea  Cr  HbA1c  Chol   TG  HDL  LDL  VLDL  \\\n",
       "0  502      17975      F   50   4.7  46    4.9   4.2  0.9  2.4  1.4   0.5   \n",
       "1  735      34221      M   26   4.5  62    4.9   3.7  1.4  1.1  2.1   0.6   \n",
       "2  420      47975      F   50   4.7  46    4.9   4.2  0.9  2.4  1.4   0.5   \n",
       "3  680      87656      F   50   4.7  46    4.9   4.2  0.9  2.4  1.4   0.5   \n",
       "4  504      34223      M   33   7.1  46    4.9   4.9  1.0  0.8  2.0   0.4   \n",
       "\n",
       "    BMI CLASS  \n",
       "0  24.0     N  \n",
       "1  23.0     N  \n",
       "2  24.0     N  \n",
       "3  24.0     N  \n",
       "4  21.0     N  "
      ]
     },
     "execution_count": 56,
     "metadata": {},
     "output_type": "execute_result"
    }
   ],
   "source": [
    "data = pd.read_csv(file_path)\n",
    "data.head()"
   ]
  },
  {
   "cell_type": "markdown",
   "id": "fe76e5c4",
   "metadata": {},
   "source": [
    "Since No_Pation is not adding any information, we will drop it."
   ]
  },
  {
   "cell_type": "code",
   "execution_count": 57,
   "id": "df2f10ff",
   "metadata": {},
   "outputs": [
    {
     "name": "stdout",
     "output_type": "stream",
     "text": [
      "<class 'pandas.core.frame.DataFrame'>\n",
      "RangeIndex: 1000 entries, 0 to 999\n",
      "Data columns (total 14 columns):\n",
      " #   Column     Non-Null Count  Dtype  \n",
      "---  ------     --------------  -----  \n",
      " 0   ID         1000 non-null   int64  \n",
      " 1   No_Pation  1000 non-null   int64  \n",
      " 2   Gender     1000 non-null   object \n",
      " 3   AGE        1000 non-null   int64  \n",
      " 4   Urea       1000 non-null   float64\n",
      " 5   Cr         1000 non-null   int64  \n",
      " 6   HbA1c      1000 non-null   float64\n",
      " 7   Chol       1000 non-null   float64\n",
      " 8   TG         1000 non-null   float64\n",
      " 9   HDL        1000 non-null   float64\n",
      " 10  LDL        1000 non-null   float64\n",
      " 11  VLDL       1000 non-null   float64\n",
      " 12  BMI        1000 non-null   float64\n",
      " 13  CLASS      1000 non-null   object \n",
      "dtypes: float64(8), int64(4), object(2)\n",
      "memory usage: 109.5+ KB\n"
     ]
    }
   ],
   "source": [
    "data.info()"
   ]
  },
  {
   "cell_type": "code",
   "execution_count": 58,
   "id": "9ec8e3d9",
   "metadata": {},
   "outputs": [
    {
     "data": {
      "text/html": [
       "<div>\n",
       "<style scoped>\n",
       "    .dataframe tbody tr th:only-of-type {\n",
       "        vertical-align: middle;\n",
       "    }\n",
       "\n",
       "    .dataframe tbody tr th {\n",
       "        vertical-align: top;\n",
       "    }\n",
       "\n",
       "    .dataframe thead th {\n",
       "        text-align: right;\n",
       "    }\n",
       "</style>\n",
       "<table border=\"1\" class=\"dataframe\">\n",
       "  <thead>\n",
       "    <tr style=\"text-align: right;\">\n",
       "      <th></th>\n",
       "      <th>ID</th>\n",
       "      <th>No_Pation</th>\n",
       "      <th>AGE</th>\n",
       "      <th>Urea</th>\n",
       "      <th>Cr</th>\n",
       "      <th>HbA1c</th>\n",
       "      <th>Chol</th>\n",
       "      <th>TG</th>\n",
       "      <th>HDL</th>\n",
       "      <th>LDL</th>\n",
       "      <th>VLDL</th>\n",
       "      <th>BMI</th>\n",
       "    </tr>\n",
       "  </thead>\n",
       "  <tbody>\n",
       "    <tr>\n",
       "      <th>count</th>\n",
       "      <td>1000.000000</td>\n",
       "      <td>1.000000e+03</td>\n",
       "      <td>1000.000000</td>\n",
       "      <td>1000.000000</td>\n",
       "      <td>1000.000000</td>\n",
       "      <td>1000.000000</td>\n",
       "      <td>1000.000000</td>\n",
       "      <td>1000.000000</td>\n",
       "      <td>1000.000000</td>\n",
       "      <td>1000.000000</td>\n",
       "      <td>1000.000000</td>\n",
       "      <td>1000.000000</td>\n",
       "    </tr>\n",
       "    <tr>\n",
       "      <th>mean</th>\n",
       "      <td>340.500000</td>\n",
       "      <td>2.705514e+05</td>\n",
       "      <td>53.528000</td>\n",
       "      <td>5.124743</td>\n",
       "      <td>68.943000</td>\n",
       "      <td>8.281160</td>\n",
       "      <td>4.862820</td>\n",
       "      <td>2.349610</td>\n",
       "      <td>1.204750</td>\n",
       "      <td>2.609790</td>\n",
       "      <td>1.854700</td>\n",
       "      <td>29.578020</td>\n",
       "    </tr>\n",
       "    <tr>\n",
       "      <th>std</th>\n",
       "      <td>240.397673</td>\n",
       "      <td>3.380758e+06</td>\n",
       "      <td>8.799241</td>\n",
       "      <td>2.935165</td>\n",
       "      <td>59.984747</td>\n",
       "      <td>2.534003</td>\n",
       "      <td>1.301738</td>\n",
       "      <td>1.401176</td>\n",
       "      <td>0.660414</td>\n",
       "      <td>1.115102</td>\n",
       "      <td>3.663599</td>\n",
       "      <td>4.962388</td>\n",
       "    </tr>\n",
       "    <tr>\n",
       "      <th>min</th>\n",
       "      <td>1.000000</td>\n",
       "      <td>1.230000e+02</td>\n",
       "      <td>20.000000</td>\n",
       "      <td>0.500000</td>\n",
       "      <td>6.000000</td>\n",
       "      <td>0.900000</td>\n",
       "      <td>0.000000</td>\n",
       "      <td>0.300000</td>\n",
       "      <td>0.200000</td>\n",
       "      <td>0.300000</td>\n",
       "      <td>0.100000</td>\n",
       "      <td>19.000000</td>\n",
       "    </tr>\n",
       "    <tr>\n",
       "      <th>25%</th>\n",
       "      <td>125.750000</td>\n",
       "      <td>2.406375e+04</td>\n",
       "      <td>51.000000</td>\n",
       "      <td>3.700000</td>\n",
       "      <td>48.000000</td>\n",
       "      <td>6.500000</td>\n",
       "      <td>4.000000</td>\n",
       "      <td>1.500000</td>\n",
       "      <td>0.900000</td>\n",
       "      <td>1.800000</td>\n",
       "      <td>0.700000</td>\n",
       "      <td>26.000000</td>\n",
       "    </tr>\n",
       "    <tr>\n",
       "      <th>50%</th>\n",
       "      <td>300.500000</td>\n",
       "      <td>3.439550e+04</td>\n",
       "      <td>55.000000</td>\n",
       "      <td>4.600000</td>\n",
       "      <td>60.000000</td>\n",
       "      <td>8.000000</td>\n",
       "      <td>4.800000</td>\n",
       "      <td>2.000000</td>\n",
       "      <td>1.100000</td>\n",
       "      <td>2.500000</td>\n",
       "      <td>0.900000</td>\n",
       "      <td>30.000000</td>\n",
       "    </tr>\n",
       "    <tr>\n",
       "      <th>75%</th>\n",
       "      <td>550.250000</td>\n",
       "      <td>4.538425e+04</td>\n",
       "      <td>59.000000</td>\n",
       "      <td>5.700000</td>\n",
       "      <td>73.000000</td>\n",
       "      <td>10.200000</td>\n",
       "      <td>5.600000</td>\n",
       "      <td>2.900000</td>\n",
       "      <td>1.300000</td>\n",
       "      <td>3.300000</td>\n",
       "      <td>1.500000</td>\n",
       "      <td>33.000000</td>\n",
       "    </tr>\n",
       "    <tr>\n",
       "      <th>max</th>\n",
       "      <td>800.000000</td>\n",
       "      <td>7.543566e+07</td>\n",
       "      <td>79.000000</td>\n",
       "      <td>38.900000</td>\n",
       "      <td>800.000000</td>\n",
       "      <td>16.000000</td>\n",
       "      <td>10.300000</td>\n",
       "      <td>13.800000</td>\n",
       "      <td>9.900000</td>\n",
       "      <td>9.900000</td>\n",
       "      <td>35.000000</td>\n",
       "      <td>47.750000</td>\n",
       "    </tr>\n",
       "  </tbody>\n",
       "</table>\n",
       "</div>"
      ],
      "text/plain": [
       "                ID     No_Pation          AGE         Urea           Cr  \\\n",
       "count  1000.000000  1.000000e+03  1000.000000  1000.000000  1000.000000   \n",
       "mean    340.500000  2.705514e+05    53.528000     5.124743    68.943000   \n",
       "std     240.397673  3.380758e+06     8.799241     2.935165    59.984747   \n",
       "min       1.000000  1.230000e+02    20.000000     0.500000     6.000000   \n",
       "25%     125.750000  2.406375e+04    51.000000     3.700000    48.000000   \n",
       "50%     300.500000  3.439550e+04    55.000000     4.600000    60.000000   \n",
       "75%     550.250000  4.538425e+04    59.000000     5.700000    73.000000   \n",
       "max     800.000000  7.543566e+07    79.000000    38.900000   800.000000   \n",
       "\n",
       "             HbA1c         Chol           TG          HDL          LDL  \\\n",
       "count  1000.000000  1000.000000  1000.000000  1000.000000  1000.000000   \n",
       "mean      8.281160     4.862820     2.349610     1.204750     2.609790   \n",
       "std       2.534003     1.301738     1.401176     0.660414     1.115102   \n",
       "min       0.900000     0.000000     0.300000     0.200000     0.300000   \n",
       "25%       6.500000     4.000000     1.500000     0.900000     1.800000   \n",
       "50%       8.000000     4.800000     2.000000     1.100000     2.500000   \n",
       "75%      10.200000     5.600000     2.900000     1.300000     3.300000   \n",
       "max      16.000000    10.300000    13.800000     9.900000     9.900000   \n",
       "\n",
       "              VLDL          BMI  \n",
       "count  1000.000000  1000.000000  \n",
       "mean      1.854700    29.578020  \n",
       "std       3.663599     4.962388  \n",
       "min       0.100000    19.000000  \n",
       "25%       0.700000    26.000000  \n",
       "50%       0.900000    30.000000  \n",
       "75%       1.500000    33.000000  \n",
       "max      35.000000    47.750000  "
      ]
     },
     "execution_count": 58,
     "metadata": {},
     "output_type": "execute_result"
    }
   ],
   "source": [
    "data.describe()"
   ]
  },
  {
   "cell_type": "markdown",
   "id": "5935b566",
   "metadata": {},
   "source": [
    "Age of the people considered is >20 and maximum is 79. Adults have been considered. Avg age is ~54.\n",
    "\n",
    "Cholesterol is zero in some patients.\n",
    "\n",
    "BMI indicates that there are some people having obesity and some are thin."
   ]
  },
  {
   "cell_type": "code",
   "execution_count": 59,
   "id": "dfa26fed",
   "metadata": {},
   "outputs": [
    {
     "name": "stderr",
     "output_type": "stream",
     "text": [
      "/var/folders/37/_10lx23j5bz88ltdjgqzqwm80000gn/T/ipykernel_96937/1743138863.py:1: FutureWarning: The default value of numeric_only in DataFrame.corr is deprecated. In a future version, it will default to False. Select only valid columns or specify the value of numeric_only to silence this warning.\n",
      "  corr = data.corr()\n",
      "/var/folders/37/_10lx23j5bz88ltdjgqzqwm80000gn/T/ipykernel_96937/1743138863.py:2: FutureWarning: this method is deprecated in favour of `Styler.format(precision=..)`\n",
      "  corr.style.background_gradient(cmap='coolwarm').set_precision(2)\n"
     ]
    },
    {
     "data": {
      "image/png": "[encoded data removed]",
      "text/plain": [
       "<Figure size 500x500 with 2 Axes>"
      ]
     },
     "metadata": {},
     "output_type": "display_data"
    }
   ],
   "source": [
    "corr = data.corr()\n",
    "corr.style.background_gradient(cmap='coolwarm').set_precision(2)\n",
    "import seaborn as sns\n",
    "import matplotlib.pyplot as plt\n",
    "plt.figure(figsize=(5, 5))\n",
    "sns.heatmap(corr, annot=True, fmt='.2f', square=True, cbar_kws={\"shrink\": .8})\n",
    "plt.title('Correlation Heatmap')\n",
    "plt.show()"
   ]
  },
  {
   "cell_type": "code",
   "execution_count": 60,
   "id": "ef26bc00",
   "metadata": {},
   "outputs": [
    {
     "data": {
      "text/plain": [
       "Index(['Gender', 'CLASS'], dtype='object')"
      ]
     },
     "execution_count": 60,
     "metadata": {},
     "output_type": "execute_result"
    }
   ],
   "source": [
    "cat_cols = data.select_dtypes(include=['object']).columns\n",
    "cat_cols"
   ]
  },
  {
   "cell_type": "code",
   "execution_count": 61,
   "id": "220d930c",
   "metadata": {},
   "outputs": [
    {
     "data": {
      "text/plain": [
       "{'Gender': array(['F', 'M', 'f'], dtype=object),\n",
       " 'CLASS': array(['N', 'N ', 'P', 'Y', 'Y '], dtype=object)}"
      ]
     },
     "execution_count": 61,
     "metadata": {},
     "output_type": "execute_result"
    }
   ],
   "source": [
    "unique_values = {col: data[col].unique() for col in cat_cols}\n",
    "unique_values"
   ]
  },
  {
   "cell_type": "code",
   "execution_count": 62,
   "id": "b0142e02",
   "metadata": {},
   "outputs": [],
   "source": [
    "data['Gender'] = data['Gender'].replace('f', 'F')\n",
    "data['CLASS'] = data['CLASS'].replace({'N ': 'N', 'Y ': 'Y', 'P': 'Y'})"
   ]
  },
  {
   "cell_type": "code",
   "execution_count": 63,
   "id": "59578359",
   "metadata": {},
   "outputs": [
    {
     "data": {
      "text/plain": [
       "{'Gender': array(['F', 'M'], dtype=object),\n",
       " 'CLASS': array(['N', 'Y'], dtype=object)}"
      ]
     },
     "execution_count": 63,
     "metadata": {},
     "output_type": "execute_result"
    }
   ],
   "source": [
    "unique_values = {col: data[col].unique() for col in cat_cols}\n",
    "unique_values"
   ]
  },
  {
   "cell_type": "code",
   "execution_count": 64,
   "id": "9a4a970b",
   "metadata": {},
   "outputs": [
    {
     "data": {
      "text/html": [
       "<div>\n",
       "<style scoped>\n",
       "    .dataframe tbody tr th:only-of-type {\n",
       "        vertical-align: middle;\n",
       "    }\n",
       "\n",
       "    .dataframe tbody tr th {\n",
       "        vertical-align: top;\n",
       "    }\n",
       "\n",
       "    .dataframe thead th {\n",
       "        text-align: right;\n",
       "    }\n",
       "</style>\n",
       "<table border=\"1\" class=\"dataframe\">\n",
       "  <thead>\n",
       "    <tr style=\"text-align: right;\">\n",
       "      <th></th>\n",
       "      <th>ID</th>\n",
       "      <th>AGE</th>\n",
       "      <th>Urea</th>\n",
       "      <th>Cr</th>\n",
       "      <th>HbA1c</th>\n",
       "      <th>Chol</th>\n",
       "      <th>TG</th>\n",
       "      <th>HDL</th>\n",
       "      <th>LDL</th>\n",
       "      <th>VLDL</th>\n",
       "      <th>BMI</th>\n",
       "      <th>Gender</th>\n",
       "      <th>Class</th>\n",
       "    </tr>\n",
       "  </thead>\n",
       "  <tbody>\n",
       "    <tr>\n",
       "      <th>0</th>\n",
       "      <td>502</td>\n",
       "      <td>50</td>\n",
       "      <td>4.7</td>\n",
       "      <td>46</td>\n",
       "      <td>4.9</td>\n",
       "      <td>4.2</td>\n",
       "      <td>0.9</td>\n",
       "      <td>2.4</td>\n",
       "      <td>1.4</td>\n",
       "      <td>0.5</td>\n",
       "      <td>24.0</td>\n",
       "      <td>0</td>\n",
       "      <td>0</td>\n",
       "    </tr>\n",
       "    <tr>\n",
       "      <th>1</th>\n",
       "      <td>735</td>\n",
       "      <td>26</td>\n",
       "      <td>4.5</td>\n",
       "      <td>62</td>\n",
       "      <td>4.9</td>\n",
       "      <td>3.7</td>\n",
       "      <td>1.4</td>\n",
       "      <td>1.1</td>\n",
       "      <td>2.1</td>\n",
       "      <td>0.6</td>\n",
       "      <td>23.0</td>\n",
       "      <td>1</td>\n",
       "      <td>0</td>\n",
       "    </tr>\n",
       "    <tr>\n",
       "      <th>2</th>\n",
       "      <td>420</td>\n",
       "      <td>50</td>\n",
       "      <td>4.7</td>\n",
       "      <td>46</td>\n",
       "      <td>4.9</td>\n",
       "      <td>4.2</td>\n",
       "      <td>0.9</td>\n",
       "      <td>2.4</td>\n",
       "      <td>1.4</td>\n",
       "      <td>0.5</td>\n",
       "      <td>24.0</td>\n",
       "      <td>0</td>\n",
       "      <td>0</td>\n",
       "    </tr>\n",
       "    <tr>\n",
       "      <th>3</th>\n",
       "      <td>680</td>\n",
       "      <td>50</td>\n",
       "      <td>4.7</td>\n",
       "      <td>46</td>\n",
       "      <td>4.9</td>\n",
       "      <td>4.2</td>\n",
       "      <td>0.9</td>\n",
       "      <td>2.4</td>\n",
       "      <td>1.4</td>\n",
       "      <td>0.5</td>\n",
       "      <td>24.0</td>\n",
       "      <td>0</td>\n",
       "      <td>0</td>\n",
       "    </tr>\n",
       "    <tr>\n",
       "      <th>4</th>\n",
       "      <td>504</td>\n",
       "      <td>33</td>\n",
       "      <td>7.1</td>\n",
       "      <td>46</td>\n",
       "      <td>4.9</td>\n",
       "      <td>4.9</td>\n",
       "      <td>1.0</td>\n",
       "      <td>0.8</td>\n",
       "      <td>2.0</td>\n",
       "      <td>0.4</td>\n",
       "      <td>21.0</td>\n",
       "      <td>1</td>\n",
       "      <td>0</td>\n",
       "    </tr>\n",
       "  </tbody>\n",
       "</table>\n",
       "</div>"
      ],
      "text/plain": [
       "    ID  AGE  Urea  Cr  HbA1c  Chol   TG  HDL  LDL  VLDL   BMI  Gender  Class\n",
       "0  502   50   4.7  46    4.9   4.2  0.9  2.4  1.4   0.5  24.0       0      0\n",
       "1  735   26   4.5  62    4.9   3.7  1.4  1.1  2.1   0.6  23.0       1      0\n",
       "2  420   50   4.7  46    4.9   4.2  0.9  2.4  1.4   0.5  24.0       0      0\n",
       "3  680   50   4.7  46    4.9   4.2  0.9  2.4  1.4   0.5  24.0       0      0\n",
       "4  504   33   7.1  46    4.9   4.9  1.0  0.8  2.0   0.4  21.0       1      0"
      ]
     },
     "execution_count": 64,
     "metadata": {},
     "output_type": "execute_result"
    }
   ],
   "source": [
    "data = pd.get_dummies(data, columns=['Gender', 'CLASS'], drop_first=True)\n",
    "data = data.drop(columns=['No_Pation'])\n",
    "data = data.rename(columns={\"Gender_M\": \"Gender\", \"CLASS_Y\": \"Class\"})\n",
    "data.head()"
   ]
  },
  {
   "cell_type": "code",
   "execution_count": 65,
   "id": "dad6592d",
   "metadata": {},
   "outputs": [],
   "source": [
    "X = data.drop(columns=['Class', 'ID'])\n",
    "y = data['Class']"
   ]
  },
  {
   "cell_type": "code",
   "execution_count": 66,
   "id": "f847faa2",
   "metadata": {},
   "outputs": [],
   "source": [
    "#splitting the dataset into training and testing sets\n",
    "from sklearn.model_selection import train_test_split\n",
    "X_train, X_test, y_train, y_test = train_test_split(X, y, test_size=0.2, random_state=42)"
   ]
  },
  {
   "cell_type": "code",
   "execution_count": 67,
   "id": "1886a52c",
   "metadata": {},
   "outputs": [
    {
     "data": {
      "text/plain": [
       "((800, 11), (200, 11), (800,), (200,))"
      ]
     },
     "execution_count": 67,
     "metadata": {},
     "output_type": "execute_result"
    }
   ],
   "source": [
    "X_train.shape, X_test.shape, y_train.shape, y_test.shape"
   ]
  },
  {
   "cell_type": "code",
   "execution_count": 68,
   "id": "5a884e84",
   "metadata": {},
   "outputs": [
    {
     "name": "stdout",
     "output_type": "stream",
     "text": [
      "F1 Score: 0.98\n",
      "Precision: 0.98\n",
      "Recall: 0.98\n",
      "Accuracy of the Decision Tree Classifier: 0.98\n"
     ]
    }
   ],
   "source": [
    "from sklearn.tree import DecisionTreeClassifier\n",
    "from sklearn.metrics import accuracy_score, f1_score, precision_score, recall_score\n",
    "\n",
    "# Initialize the Decision Tree Classifier\n",
    "dt_classifier = DecisionTreeClassifier(random_state=42)\n",
    "\n",
    "# Train the classifier\n",
    "dt_classifier.fit(X_train, y_train)\n",
    "\n",
    "# Predict on the test set\n",
    "y_pred = dt_classifier.predict(X_test)\n",
    "\n",
    "# Calculate accuracy\n",
    "accuracy = accuracy_score(y_test, y_pred)\n",
    "f1 = f1_score(y_test, y_pred, average='weighted')\n",
    "precision = precision_score(y_test, y_pred, average='weighted')\n",
    "recall = recall_score(y_test, y_pred, average='weighted')\n",
    "\n",
    "# Print the evaluation metrics\n",
    "print(f\"F1 Score: {f1:.2f}\")\n",
    "print(f\"Precision: {precision:.2f}\")\n",
    "print(f\"Recall: {recall:.2f}\")\n",
    "print(f\"Accuracy of the Decision Tree Classifier: {accuracy:.2f}\")"
   ]
  },
  {
   "cell_type": "code",
   "execution_count": 69,
   "id": "ca9441f6",
   "metadata": {},
   "outputs": [
    {
     "name": "stdout",
     "output_type": "stream",
     "text": [
      "F1 Score (Random Forest): 0.98\n",
      "Precision (Random Forest): 0.98\n",
      "Recall (Random Forest): 0.98\n",
      "Accuracy of the Random Forest Classifier: 0.98\n"
     ]
    }
   ],
   "source": [
    "from sklearn.ensemble import RandomForestClassifier\n",
    "\n",
    "# Initialize the Random Forest Classifier\n",
    "rf_classifier = RandomForestClassifier(random_state=42)\n",
    "\n",
    "# Train the classifier\n",
    "rf_classifier.fit(X_train, y_train)\n",
    "\n",
    "# Predict on the test set\n",
    "y_pred_rf = rf_classifier.predict(X_test)\n",
    "\n",
    "# Calculate evaluation metrics\n",
    "accuracy_rf = accuracy_score(y_test, y_pred_rf)\n",
    "f1_rf = f1_score(y_test, y_pred_rf, average='weighted')\n",
    "precision_rf = precision_score(y_test, y_pred_rf, average='weighted')\n",
    "recall_rf = recall_score(y_test, y_pred_rf, average='weighted')\n",
    "\n",
    "# Print the evaluation metrics\n",
    "print(f\"F1 Score (Random Forest): {f1_rf:.2f}\")\n",
    "print(f\"Precision (Random Forest): {precision_rf:.2f}\")\n",
    "print(f\"Recall (Random Forest): {recall_rf:.2f}\")\n",
    "print(f\"Accuracy of the Random Forest Classifier: {accuracy_rf:.2f}\")"
   ]
  },
  {
   "cell_type": "code",
   "execution_count": null,
   "id": "2be2690b",
   "metadata": {},
   "outputs": [],
   "source": []
  }
 ],
 "metadata": {
  "kernelspec": {
   "display_name": "project",
   "language": "python",
   "name": "python3"
  },
  "language_info": {
   "codemirror_mode": {
    "name": "ipython",
    "version": 3
   },
   "file_extension": ".py",
   "mimetype": "text/x-python",
   "name": "python",
   "nbconvert_exporter": "python",
   "pygments_lexer": "ipython3",
   "version": "3.10.8"
  }
 },
 "nbformat": 4,
 "nbformat_minor": 5
}
